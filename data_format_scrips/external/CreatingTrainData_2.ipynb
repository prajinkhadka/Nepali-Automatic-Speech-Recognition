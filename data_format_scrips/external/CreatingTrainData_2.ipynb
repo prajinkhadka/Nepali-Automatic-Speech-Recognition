{
 "cells": [
  {
   "cell_type": "code",
   "execution_count": 1,
   "id": "66ed09cf",
   "metadata": {},
   "outputs": [],
   "source": [
    "import os\n",
    "import torch\n",
    "from sklearn.model_selection import train_test_split\n",
    "from datasets import load_dataset, load_metric,Dataset,concatenate_datasets,set_caching_enabled, ClassLabel\n",
    "import pandas as pd\n",
    "\n",
    "import random\n",
    "from IPython.display import display, HTML\n",
    "\n",
    "import json\n",
    "from transformers import Wav2Vec2CTCTokenizer,Wav2Vec2ForCTC,Wav2Vec2Processor,Trainer,TrainingArguments,Wav2Vec2FeatureExtractor\n",
    "\n",
    "import re\n",
    "set_caching_enabled(False)\n",
    "\n",
    "import soundfile as sf\n",
    "import torchaudio\n",
    "\n",
    "\n",
    "import IPython.display as ipd\n",
    "\n",
    "import numpy as np\n",
    "from dataclasses import dataclass, field\n",
    "from typing import Any, Dict, List, Optional, Union\n",
    "\n",
    "from tqdm import tqdm\n",
    "import torch\n",
    "\n",
    "# Set environment variables\n",
    "os.environ['WANDB_DISABLED '] = 'True'\n",
    "\n",
    "import warnings\n",
    "warnings.filterwarnings('ignore')"
   ]
  },
  {
   "cell_type": "code",
   "execution_count": 2,
   "id": "effb0d20",
   "metadata": {},
   "outputs": [
    {
     "data": {
      "text/plain": [
       "0"
      ]
     },
     "execution_count": 2,
     "metadata": {},
     "output_type": "execute_result"
    }
   ],
   "source": [
    "import logging\n",
    "import transformers\n",
    "transformers.logging.get_verbosity = lambda: logging.NOTSET\n",
    "\n",
    "transformers.logging.get_verbosity()\n",
    "\n"
   ]
  },
  {
   "cell_type": "code",
   "execution_count": 3,
   "id": "4b4d939d",
   "metadata": {},
   "outputs": [],
   "source": [
    "import datasets\n",
    "datasets.logging.get_verbosity = lambda: logging.NOTSET\n",
    "\n"
   ]
  },
  {
   "cell_type": "code",
   "execution_count": 4,
   "id": "78097513",
   "metadata": {},
   "outputs": [],
   "source": [
    "processed_data_dir_path = \"/workspace/data_processed\""
   ]
  },
  {
   "cell_type": "code",
   "execution_count": 5,
   "id": "b68c8a60",
   "metadata": {},
   "outputs": [],
   "source": [
    "import glob \n",
    "data_open_slr_paths = glob.glob(\"/workspace/data/external/*\")"
   ]
  },
  {
   "cell_type": "code",
   "execution_count": 6,
   "id": "917e49a7",
   "metadata": {},
   "outputs": [
    {
     "data": {
      "text/plain": [
       "['/workspace/data/external/13',\n",
       " '/workspace/data/external/2',\n",
       " '/workspace/data/external/7',\n",
       " '/workspace/data/external/3',\n",
       " '/workspace/data/external/4',\n",
       " '/workspace/data/external/5',\n",
       " '/workspace/data/external/8',\n",
       " '/workspace/data/external/6',\n",
       " '/workspace/data/external/10',\n",
       " '/workspace/data/external/9',\n",
       " '/workspace/data/external/12',\n",
       " '/workspace/data/external/1',\n",
       " '/workspace/data/external/11']"
      ]
     },
     "execution_count": 6,
     "metadata": {},
     "output_type": "execute_result"
    }
   ],
   "source": [
    "data_open_slr_paths"
   ]
  },
  {
   "cell_type": "code",
   "execution_count": 7,
   "id": "e9e7fa4b",
   "metadata": {},
   "outputs": [],
   "source": [
    "# Creating Processor\n",
    "data_1 = '/workspace/data/external/10'"
   ]
  },
  {
   "cell_type": "code",
   "execution_count": 8,
   "id": "a011a8f3",
   "metadata": {},
   "outputs": [
    {
     "name": "stdout",
     "output_type": "stream",
     "text": [
      "/workspace/data/external/10/data.json\n"
     ]
    }
   ],
   "source": [
    "transcript_json = data_1 + \"/\" +  \"data.json\"\n",
    "print(transcript_json)\n",
    "data = pd.read_json(transcript_json)"
   ]
  },
  {
   "cell_type": "code",
   "execution_count": 9,
   "id": "d1230fce",
   "metadata": {},
   "outputs": [
    {
     "data": {
      "text/plain": [
       "0          0_15_NSD-Nepali-Nepali-1925-1935-2020742022.wav\n",
       "1          0_1_NSD-Nepali-Nepali-1925-1935-20195719500.wav\n",
       "2          0_2_NSD-Nepali-Nepali-1925-1935-20211519542.wav\n",
       "3          0_4_NSD-Nepali-Nepali-1925-1935-20183519429.wav\n",
       "4          0_6_NSD-Nepali-Nepali-1925-1935-20187220332.wav\n",
       "                               ...                        \n",
       "19995    3_2_Regional-Guwahati-Nepali-1515-201972615414...\n",
       "19996    32_Regional-Guwahati-Nepali-1515-2021112161233...\n",
       "19997    3_2_Regional-Kurseong-Nepali-1850-201810111941...\n",
       "19998    32_Regional-Guwahati-Nepali-1515-2021119152822...\n",
       "19999    3_2_Regional-Guwahati-Nepali-1515-202029152922...\n",
       "Name: audioFilename, Length: 20000, dtype: object"
      ]
     },
     "execution_count": 9,
     "metadata": {},
     "output_type": "execute_result"
    }
   ],
   "source": [
    "data['audioFilename']"
   ]
  },
  {
   "cell_type": "code",
   "execution_count": 10,
   "id": "1ba8a48c",
   "metadata": {},
   "outputs": [],
   "source": [
    "for i in range(len(data)):\n",
    "    file = data_1  + \"/\" + data['audioFilename'][i]\n",
    "    data['audioFilename'][i] = file"
   ]
  },
  {
   "cell_type": "code",
   "execution_count": 11,
   "id": "080fadc9",
   "metadata": {},
   "outputs": [
    {
     "data": {
      "text/plain": [
       "0        /workspace/data/external/10/0_15_NSD-Nepali-Ne...\n",
       "1        /workspace/data/external/10/0_1_NSD-Nepali-Nep...\n",
       "2        /workspace/data/external/10/0_2_NSD-Nepali-Nep...\n",
       "3        /workspace/data/external/10/0_4_NSD-Nepali-Nep...\n",
       "4        /workspace/data/external/10/0_6_NSD-Nepali-Nep...\n",
       "                               ...                        \n",
       "19995    /workspace/data/external/10/3_2_Regional-Guwah...\n",
       "19996    /workspace/data/external/10/32_Regional-Guwaha...\n",
       "19997    /workspace/data/external/10/3_2_Regional-Kurse...\n",
       "19998    /workspace/data/external/10/32_Regional-Guwaha...\n",
       "19999    /workspace/data/external/10/3_2_Regional-Guwah...\n",
       "Name: audioFilename, Length: 20000, dtype: object"
      ]
     },
     "execution_count": 11,
     "metadata": {},
     "output_type": "execute_result"
    }
   ],
   "source": [
    "data['audioFilename']"
   ]
  },
  {
   "cell_type": "code",
   "execution_count": 12,
   "id": "6c84360d",
   "metadata": {},
   "outputs": [],
   "source": [
    "data.rename(columns = {'text':'sentence'}, inplace = True)\n",
    "data.rename(columns = {'audioFilename':'path'}, inplace = True)"
   ]
  },
  {
   "cell_type": "code",
   "execution_count": 13,
   "id": "7e1b543a",
   "metadata": {},
   "outputs": [
    {
     "data": {
      "text/plain": [
       "20000"
      ]
     },
     "execution_count": 13,
     "metadata": {},
     "output_type": "execute_result"
    }
   ],
   "source": [
    "len(data)"
   ]
  },
  {
   "cell_type": "code",
   "execution_count": 14,
   "id": "0ef447a2",
   "metadata": {},
   "outputs": [
    {
     "data": {
      "text/plain": [
       "10000"
      ]
     },
     "execution_count": 14,
     "metadata": {},
     "output_type": "execute_result"
    }
   ],
   "source": [
    "train = data[0:10000]\n",
    "len(train)"
   ]
  },
  {
   "cell_type": "code",
   "execution_count": 15,
   "id": "c49bc325",
   "metadata": {},
   "outputs": [
    {
     "name": "stdout",
     "output_type": "stream",
     "text": [
      "5000\n",
      "5000\n"
     ]
    }
   ],
   "source": [
    "common_voice_train_1 = Dataset.from_pandas(train[0:5000])\n",
    "common_voice_train_2 = Dataset.from_pandas(train[5000:])\n",
    "\n",
    "print(len(common_voice_train_1))\n",
    "print(len(common_voice_train_2))"
   ]
  },
  {
   "cell_type": "code",
   "execution_count": 16,
   "id": "817460ea",
   "metadata": {},
   "outputs": [
    {
     "name": "stdout",
     "output_type": "stream",
     "text": [
      "शान्ति र समृद्धिको उपलब्धिहरू का लागि महत्त्वपूर्ण भूमिका खेल्न सक्छ जसद्वारा वैश्विक शान्ति समृद्धि हासिल गर्न सकिन्छ\n",
      "मिलियन सँग भेटबाट गर्नुहुनेछ यस भ्रमण ले दुई देश बीच विद्यमान दुई पक्ष सम्बन्धको समीक्षाका अवसर प्रदान गर्ने साथै परस्पर हितका क्षेत्रहरूमा सहयोग बनाउने अवसर प्रदान गर्नेछ\n"
     ]
    }
   ],
   "source": [
    "print(common_voice_train_1['sentence'][4])\n",
    "print(common_voice_train_2['sentence'][4])"
   ]
  },
  {
   "cell_type": "code",
   "execution_count": 17,
   "id": "0d5cff4e",
   "metadata": {},
   "outputs": [],
   "source": [
    "common_voice_train_1 = common_voice_train_1.remove_columns([ \"collectionSource\",\"snr\",  \"duration\", \"gender\"])\n",
    "common_voice_train_2 = common_voice_train_2.remove_columns([\"collectionSource\",\"snr\",  \"duration\", \"gender\"])"
   ]
  },
  {
   "cell_type": "code",
   "execution_count": 18,
   "id": "b44e6f1e",
   "metadata": {},
   "outputs": [],
   "source": [
    "import re\n",
    "chars_to_ignore_regex = '[\\,\\?\\.\\!\\-\\;\\:\\\"\\“\\%\\‘\\”\\�]'\n",
    "\n",
    "def remove_special_characters(batch):\n",
    "    batch[\"sentence\"] = re.sub(chars_to_ignore_regex, '', batch[\"sentence\"]).lower() + \" \"\n",
    "    return batch"
   ]
  },
  {
   "cell_type": "code",
   "execution_count": 19,
   "id": "dc9a684c",
   "metadata": {},
   "outputs": [],
   "source": [
    "common_voice_train_1 = common_voice_train_1.map(remove_special_characters)\n",
    "common_voice_train_2 = common_voice_train_2.map(remove_special_characters)"
   ]
  },
  {
   "cell_type": "code",
   "execution_count": 20,
   "id": "8d201204",
   "metadata": {},
   "outputs": [],
   "source": [
    "def speech_file_to_array_fn(batch):\n",
    "    speech_array, sampling_rate = sf.read(batch[\"path\"])\n",
    "    batch[\"speech\"] = speech_array\n",
    "    batch[\"sampling_rate\"] = sampling_rate\n",
    "    batch[\"target_text\"] = batch[\"sentence\"]\n",
    "    return batch"
   ]
  },
  {
   "cell_type": "code",
   "execution_count": 21,
   "id": "f0b13dc1",
   "metadata": {},
   "outputs": [
    {
     "ename": "RuntimeError",
     "evalue": "Error opening '/workspace/data/external/10/0_11_NSD-Nepali-Nepali-1925-1935-2019916194720.wav': File contains data in an unknown format.",
     "output_type": "error",
     "traceback": [
      "\u001b[0;31m---------------------------------------------------------------------------\u001b[0m",
      "\u001b[0;31mRemoteTraceback\u001b[0m                           Traceback (most recent call last)",
      "\u001b[0;31mRemoteTraceback\u001b[0m: \n\"\"\"\nTraceback (most recent call last):\n  File \"/opt/conda/lib/python3.8/site-packages/multiprocess/pool.py\", line 125, in worker\n    result = (True, func(*args, **kwds))\n  File \"/opt/conda/lib/python3.8/site-packages/datasets/arrow_dataset.py\", line 522, in wrapper\n    out: Union[\"Dataset\", \"DatasetDict\"] = func(self, *args, **kwargs)\n  File \"/opt/conda/lib/python3.8/site-packages/datasets/arrow_dataset.py\", line 489, in wrapper\n    out: Union[\"Dataset\", \"DatasetDict\"] = func(self, *args, **kwargs)\n  File \"/opt/conda/lib/python3.8/site-packages/datasets/fingerprint.py\", line 411, in wrapper\n    out = func(self, *args, **kwargs)\n  File \"/opt/conda/lib/python3.8/site-packages/datasets/arrow_dataset.py\", line 2459, in _map_single\n    example = apply_function_on_filtered_inputs(example, i, offset=offset)\n  File \"/opt/conda/lib/python3.8/site-packages/datasets/arrow_dataset.py\", line 2368, in apply_function_on_filtered_inputs\n    processed_inputs = function(*fn_args, *additional_args, **fn_kwargs)\n  File \"/opt/conda/lib/python3.8/site-packages/datasets/arrow_dataset.py\", line 2063, in decorated\n    result = f(decorated_item, *args, **kwargs)\n  File \"<ipython-input-20-5c21d1261085>\", line 2, in speech_file_to_array_fn\n    speech_array, sampling_rate = sf.read(batch[\"path\"])\n  File \"/opt/conda/lib/python3.8/site-packages/soundfile.py\", line 256, in read\n    with SoundFile(file, 'r', samplerate, channels,\n  File \"/opt/conda/lib/python3.8/site-packages/soundfile.py\", line 629, in __init__\n    self._file = self._open(file, mode_int, closefd)\n  File \"/opt/conda/lib/python3.8/site-packages/soundfile.py\", line 1183, in _open\n    _error_check(_snd.sf_error(file_ptr),\n  File \"/opt/conda/lib/python3.8/site-packages/soundfile.py\", line 1357, in _error_check\n    raise RuntimeError(prefix + _ffi.string(err_str).decode('utf-8', 'replace'))\nRuntimeError: Error opening '/workspace/data/external/10/0_11_NSD-Nepali-Nepali-1925-1935-2019916194720.wav': File contains data in an unknown format.\n\"\"\"",
      "\nThe above exception was the direct cause of the following exception:\n",
      "\u001b[0;31mRuntimeError\u001b[0m                              Traceback (most recent call last)",
      "\u001b[0;32m<ipython-input-21-f39c96113c3e>\u001b[0m in \u001b[0;36m<module>\u001b[0;34m\u001b[0m\n\u001b[0;32m----> 1\u001b[0;31m \u001b[0mcommon_voice_train_1\u001b[0m \u001b[0;34m=\u001b[0m \u001b[0mcommon_voice_train_1\u001b[0m\u001b[0;34m.\u001b[0m\u001b[0mmap\u001b[0m\u001b[0;34m(\u001b[0m\u001b[0mspeech_file_to_array_fn\u001b[0m\u001b[0;34m,\u001b[0m \u001b[0mremove_columns\u001b[0m\u001b[0;34m=\u001b[0m\u001b[0mcommon_voice_train_1\u001b[0m\u001b[0;34m.\u001b[0m\u001b[0mcolumn_names\u001b[0m\u001b[0;34m,\u001b[0m\u001b[0mnum_proc\u001b[0m\u001b[0;34m=\u001b[0m\u001b[0;36m4\u001b[0m\u001b[0;34m)\u001b[0m\u001b[0;34m\u001b[0m\u001b[0;34m\u001b[0m\u001b[0m\n\u001b[0m",
      "\u001b[0;32m/opt/conda/lib/python3.8/site-packages/datasets/arrow_dataset.py\u001b[0m in \u001b[0;36mmap\u001b[0;34m(self, function, with_indices, with_rank, input_columns, batched, batch_size, drop_last_batch, remove_columns, keep_in_memory, load_from_cache_file, cache_file_name, writer_batch_size, features, disable_nullable, fn_kwargs, num_proc, suffix_template, new_fingerprint, desc)\u001b[0m\n\u001b[1;32m   2214\u001b[0m \u001b[0;34m\u001b[0m\u001b[0m\n\u001b[1;32m   2215\u001b[0m                     \u001b[0;32mfor\u001b[0m \u001b[0mindex\u001b[0m\u001b[0;34m,\u001b[0m \u001b[0masync_result\u001b[0m \u001b[0;32min\u001b[0m \u001b[0mresults\u001b[0m\u001b[0;34m.\u001b[0m\u001b[0mitems\u001b[0m\u001b[0;34m(\u001b[0m\u001b[0;34m)\u001b[0m\u001b[0;34m:\u001b[0m\u001b[0;34m\u001b[0m\u001b[0;34m\u001b[0m\u001b[0m\n\u001b[0;32m-> 2216\u001b[0;31m                         \u001b[0mtransformed_shards\u001b[0m\u001b[0;34m[\u001b[0m\u001b[0mindex\u001b[0m\u001b[0;34m]\u001b[0m \u001b[0;34m=\u001b[0m \u001b[0masync_result\u001b[0m\u001b[0;34m.\u001b[0m\u001b[0mget\u001b[0m\u001b[0;34m(\u001b[0m\u001b[0;34m)\u001b[0m\u001b[0;34m\u001b[0m\u001b[0;34m\u001b[0m\u001b[0m\n\u001b[0m\u001b[1;32m   2217\u001b[0m \u001b[0;34m\u001b[0m\u001b[0m\n\u001b[1;32m   2218\u001b[0m             assert (\n",
      "\u001b[0;32m/opt/conda/lib/python3.8/site-packages/multiprocess/pool.py\u001b[0m in \u001b[0;36mget\u001b[0;34m(self, timeout)\u001b[0m\n\u001b[1;32m    769\u001b[0m             \u001b[0;32mreturn\u001b[0m \u001b[0mself\u001b[0m\u001b[0;34m.\u001b[0m\u001b[0m_value\u001b[0m\u001b[0;34m\u001b[0m\u001b[0;34m\u001b[0m\u001b[0m\n\u001b[1;32m    770\u001b[0m         \u001b[0;32melse\u001b[0m\u001b[0;34m:\u001b[0m\u001b[0;34m\u001b[0m\u001b[0;34m\u001b[0m\u001b[0m\n\u001b[0;32m--> 771\u001b[0;31m             \u001b[0;32mraise\u001b[0m \u001b[0mself\u001b[0m\u001b[0;34m.\u001b[0m\u001b[0m_value\u001b[0m\u001b[0;34m\u001b[0m\u001b[0;34m\u001b[0m\u001b[0m\n\u001b[0m\u001b[1;32m    772\u001b[0m \u001b[0;34m\u001b[0m\u001b[0m\n\u001b[1;32m    773\u001b[0m     \u001b[0;32mdef\u001b[0m \u001b[0m_set\u001b[0m\u001b[0;34m(\u001b[0m\u001b[0mself\u001b[0m\u001b[0;34m,\u001b[0m \u001b[0mi\u001b[0m\u001b[0;34m,\u001b[0m \u001b[0mobj\u001b[0m\u001b[0;34m)\u001b[0m\u001b[0;34m:\u001b[0m\u001b[0;34m\u001b[0m\u001b[0;34m\u001b[0m\u001b[0m\n",
      "\u001b[0;31mRuntimeError\u001b[0m: Error opening '/workspace/data/external/10/0_11_NSD-Nepali-Nepali-1925-1935-2019916194720.wav': File contains data in an unknown format."
     ]
    }
   ],
   "source": [
    "common_voice_train_1 = common_voice_train_1.map(speech_file_to_array_fn, remove_columns=common_voice_train_1.column_names,num_proc=4)"
   ]
  },
  {
   "cell_type": "code",
   "execution_count": null,
   "id": "07d38707",
   "metadata": {},
   "outputs": [],
   "source": [
    "common_voice_train_2 = common_voice_train_2.map(speech_file_to_array_fn, remove_columns=common_voice_train_2.column_names,num_proc=4)"
   ]
  },
  {
   "cell_type": "code",
   "execution_count": null,
   "id": "fc155d13",
   "metadata": {},
   "outputs": [],
   "source": [
    "import IPython.display as ipd\n",
    "import numpy as np\n",
    "import random\n",
    "\n",
    "rand_int = random.randint(0, len(common_voice_train_1)-1)\n",
    "\n",
    "ipd.Audio(data=np.asarray(common_voice_train_1[rand_int][\"speech\"]), autoplay=True, rate=16000)"
   ]
  },
  {
   "cell_type": "code",
   "execution_count": 22,
   "id": "3f39bd29",
   "metadata": {},
   "outputs": [],
   "source": [
    "def prepare_dataset(batch):\n",
    "    # check that all files have the correct sampling rate\n",
    "    assert (\n",
    "        len(set(batch[\"sampling_rate\"])) == 1\n",
    "    ), f\"Make sure all inputs have the same sampling rate of {processor.feature_extractor.sampling_rate}.\"\n",
    "\n",
    "    batch[\"input_values\"] = processor(batch[\"speech\"], sampling_rate=batch[\"sampling_rate\"][0]).input_values\n",
    "    \n",
    "    with processor.as_target_processor():\n",
    "        batch[\"labels\"] = processor(batch[\"target_text\"]).input_ids\n",
    "    return batch"
   ]
  },
  {
   "cell_type": "code",
   "execution_count": 25,
   "id": "0be9a319",
   "metadata": {},
   "outputs": [],
   "source": [
    "tokenizer = Wav2Vec2CTCTokenizer(\"/workspace/vocab.json\", unk_token=\"[UNK]\", pad_token=\"[PAD]\", word_delimiter_token=\"|\")\n",
    "feature_extractor = Wav2Vec2FeatureExtractor(feature_size=1, sampling_rate=16000, padding_value=0.0, do_normalize=True, return_attention_mask=True)\n",
    "processor = Wav2Vec2Processor(feature_extractor=feature_extractor, tokenizer=tokenizer)"
   ]
  },
  {
   "cell_type": "code",
   "execution_count": 26,
   "id": "64e43660",
   "metadata": {},
   "outputs": [
    {
     "data": {
      "text/plain": [
       "62"
      ]
     },
     "execution_count": 26,
     "metadata": {},
     "output_type": "execute_result"
    }
   ],
   "source": [
    "len(processor.tokenizer)"
   ]
  },
  {
   "cell_type": "code",
   "execution_count": 27,
   "id": "7721f8ca",
   "metadata": {},
   "outputs": [],
   "source": [
    "common_voice_train_1 = common_voice_train_1.map(prepare_dataset, remove_columns=common_voice_train_1.column_names, batch_size=8, num_proc=4, batched=True)"
   ]
  },
  {
   "cell_type": "code",
   "execution_count": 28,
   "id": "85e85edc",
   "metadata": {},
   "outputs": [],
   "source": [
    "common_voice_train_2 = common_voice_train_2.map(prepare_dataset, remove_columns=common_voice_train_2.column_names, batch_size=8, num_proc=4, batched=True)"
   ]
  },
  {
   "cell_type": "code",
   "execution_count": 29,
   "id": "25045033",
   "metadata": {},
   "outputs": [
    {
     "data": {
      "text/plain": [
       "Dataset({\n",
       "    features: ['input_values', 'labels'],\n",
       "    num_rows: 1069\n",
       "})"
      ]
     },
     "execution_count": 29,
     "metadata": {},
     "output_type": "execute_result"
    }
   ],
   "source": [
    "common_voice_train_2"
   ]
  },
  {
   "cell_type": "code",
   "execution_count": 30,
   "id": "1642c11e",
   "metadata": {},
   "outputs": [],
   "source": [
    "common_voice_train = concatenate_datasets([common_voice_train_1, common_voice_train_2])"
   ]
  },
  {
   "cell_type": "code",
   "execution_count": 31,
   "id": "c44c1624",
   "metadata": {},
   "outputs": [],
   "source": [
    "processed_data_dir_path_ = processed_data_dir_path + \"/\" + str(29)"
   ]
  },
  {
   "cell_type": "code",
   "execution_count": 32,
   "id": "1d705378",
   "metadata": {},
   "outputs": [
    {
     "data": {
      "text/plain": [
       "'/workspace/data_processed/29'"
      ]
     },
     "execution_count": 32,
     "metadata": {},
     "output_type": "execute_result"
    }
   ],
   "source": [
    "processed_data_dir_path_"
   ]
  },
  {
   "cell_type": "code",
   "execution_count": 33,
   "id": "0e7c490f",
   "metadata": {},
   "outputs": [
    {
     "data": {
      "text/plain": [
       "Dataset({\n",
       "    features: ['input_values', 'labels'],\n",
       "    num_rows: 2069\n",
       "})"
      ]
     },
     "execution_count": 33,
     "metadata": {},
     "output_type": "execute_result"
    }
   ],
   "source": [
    "common_voice_train"
   ]
  },
  {
   "cell_type": "code",
   "execution_count": 34,
   "id": "6b3b5d5e",
   "metadata": {},
   "outputs": [],
   "source": [
    "common_voice_train.save_to_disk(processed_data_dir_path_)"
   ]
  },
  {
   "cell_type": "code",
   "execution_count": null,
   "id": "c6cd5128",
   "metadata": {},
   "outputs": [],
   "source": []
  }
 ],
 "metadata": {
  "kernelspec": {
   "display_name": "Python 3 (ipykernel)",
   "language": "python",
   "name": "python3"
  },
  "language_info": {
   "codemirror_mode": {
    "name": "ipython",
    "version": 3
   },
   "file_extension": ".py",
   "mimetype": "text/x-python",
   "name": "python",
   "nbconvert_exporter": "python",
   "pygments_lexer": "ipython3",
   "version": "3.9.6"
  }
 },
 "nbformat": 4,
 "nbformat_minor": 5
}
