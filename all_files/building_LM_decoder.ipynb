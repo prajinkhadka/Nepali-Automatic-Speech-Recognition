{
 "cells": [
  {
   "cell_type": "code",
   "execution_count": 1,
   "id": "13bf7e35",
   "metadata": {},
   "outputs": [],
   "source": [
    "from transformers import AutoProcessor"
   ]
  },
  {
   "cell_type": "code",
   "execution_count": 2,
   "id": "4978e98a",
   "metadata": {},
   "outputs": [],
   "source": [
    "processor = AutoProcessor.from_pretrained(\"prajin/wav2vec2-large-xlsr-300m-nepali\")"
   ]
  },
  {
   "cell_type": "code",
   "execution_count": 3,
   "id": "bba0899a",
   "metadata": {},
   "outputs": [],
   "source": [
    "vocab_dict = processor.tokenizer.get_vocab()\n",
    "sorted_vocab_dict = {k.lower(): v for k, v in sorted(vocab_dict.items(), key=lambda item: item[1])}\n"
   ]
  },
  {
   "cell_type": "code",
   "execution_count": 4,
   "id": "a2fa1381",
   "metadata": {},
   "outputs": [
    {
     "data": {
      "text/plain": [
       "{'ड': 0,\n",
       " 'इ': 1,\n",
       " 'ढ': 2,\n",
       " 'फ': 3,\n",
       " 'ठ': 4,\n",
       " 'ृ': 5,\n",
       " 'ः': 6,\n",
       " 'औ': 8,\n",
       " 'द': 9,\n",
       " 'ञ': 10,\n",
       " 'ं': 11,\n",
       " 'ऋ': 12,\n",
       " 'घ': 13,\n",
       " 'अ': 14,\n",
       " 'ई': 15,\n",
       " 'ट': 16,\n",
       " 'ग': 17,\n",
       " 'ँ': 18,\n",
       " 'झ': 19,\n",
       " 'ै': 20,\n",
       " 'ि': 21,\n",
       " 'ह': 22,\n",
       " '्': 23,\n",
       " 'छ': 24,\n",
       " 'ष': 25,\n",
       " 'ङ': 26,\n",
       " 'प': 27,\n",
       " 'ऐ': 28,\n",
       " 'र': 29,\n",
       " 'े': 30,\n",
       " 'ऊ': 31,\n",
       " 'ब': 32,\n",
       " 'थ': 33,\n",
       " 'व': 34,\n",
       " 'उ': 35,\n",
       " 'भ': 36,\n",
       " 'ी': 37,\n",
       " 'ज': 38,\n",
       " 'ए': 39,\n",
       " 'ा': 40,\n",
       " 'त': 41,\n",
       " 'आ': 42,\n",
       " 'ख': 43,\n",
       " 'ल': 44,\n",
       " 'ो': 45,\n",
       " 'ु': 46,\n",
       " 'क': 47,\n",
       " 'स': 48,\n",
       " 'ओ': 49,\n",
       " 'ध': 50,\n",
       " 'ण': 51,\n",
       " 'म': 52,\n",
       " 'श': 53,\n",
       " 'न': 54,\n",
       " 'ू': 55,\n",
       " 'ौ': 56,\n",
       " 'च': 57,\n",
       " 'य': 58,\n",
       " 'ॠ': 59,\n",
       " '|': 7,\n",
       " '[UNK]': 60,\n",
       " '[PAD]': 61,\n",
       " '<s>': 62,\n",
       " '</s>': 63}"
      ]
     },
     "execution_count": 4,
     "metadata": {},
     "output_type": "execute_result"
    }
   ],
   "source": [
    "vocab_dict"
   ]
  },
  {
   "cell_type": "code",
   "execution_count": null,
   "id": "ed2b818d",
   "metadata": {},
   "outputs": [],
   "source": []
  }
 ],
 "metadata": {
  "kernelspec": {
   "display_name": "Python 3",
   "language": "python",
   "name": "python3"
  },
  "language_info": {
   "codemirror_mode": {
    "name": "ipython",
    "version": 3
   },
   "file_extension": ".py",
   "mimetype": "text/x-python",
   "name": "python",
   "nbconvert_exporter": "python",
   "pygments_lexer": "ipython3",
   "version": "3.8.8"
  }
 },
 "nbformat": 4,
 "nbformat_minor": 5
}
